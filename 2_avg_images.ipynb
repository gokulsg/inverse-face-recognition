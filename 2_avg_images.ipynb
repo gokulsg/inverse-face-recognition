{
 "cells": [
  {
   "cell_type": "markdown",
   "metadata": {},
   "source": [
    "# Experiment 2: Using averaged photos"
   ]
  },
  {
   "cell_type": "markdown",
   "metadata": {},
   "source": [
    "### Training"
   ]
  },
  {
   "cell_type": "markdown",
   "metadata": {},
   "source": [
    "We first import the required libraries, and set up the model, dataloaders and optimizer for training"
   ]
  },
  {
   "cell_type": "code",
   "execution_count": 1,
   "metadata": {},
   "outputs": [],
   "source": [
    "import torch\n",
    "from torch.utils.data import DataLoader\n",
    "from torch import nn, optim\n",
    "\n",
    "from model import Generator\n",
    "from dataset import EmbedImagePairs\n",
    "from train import train, test, synthesize"
   ]
  },
  {
   "cell_type": "code",
   "execution_count": 2,
   "metadata": {},
   "outputs": [],
   "source": [
    "device = torch.device(\"cuda:0\" if torch.cuda.is_available() else \"cpu\")\n",
    "\n",
    "model = Generator(128).to(device)\n",
    "\n",
    "trn_dataloader = DataLoader(EmbedImagePairs('/floyd/input/data/128dim/train_avg', size=64, n_hidden=128), batch_size=200, shuffle=True)\n",
    "val_dataloader = DataLoader(EmbedImagePairs('/floyd/input/data/128dim/val', size=64, n_hidden=128, train=False), batch_size=100)\n",
    "dataloader_dict = {'train': trn_dataloader, 'val': val_dataloader}\n",
    "\n",
    "criterion = nn.MSELoss()\n",
    "optimizer = optim.Adam(model.parameters())"
   ]
  },
  {
   "cell_type": "markdown",
   "metadata": {},
   "source": [
    "We create a folder to store all the outputs of this training run"
   ]
  },
  {
   "cell_type": "code",
   "execution_count": 3,
   "metadata": {},
   "outputs": [],
   "source": [
    "# !rm -r \"models/pytorch/128_avg\"\n",
    "!mkdir -p \"models/pytorch/128_avg\""
   ]
  },
  {
   "cell_type": "markdown",
   "metadata": {},
   "source": [
    "Uncomment the following cell to install dlib if it's not installed already, and get the required models"
   ]
  },
  {
   "cell_type": "code",
   "execution_count": null,
   "metadata": {},
   "outputs": [],
   "source": [
    "# uncomment out if you want to compute validation metrics using dlib\n",
    "# !pip install dlib\n",
    "\n",
    "# !mkdir -p \"models/dlib\"\n",
    "\n",
    "# !wget \"http://dlib.net/files/dlib_face_recognition_resnet_model_v1.dat.bz2\" -O \"models/dlib/facerec.dat.bz2\"\n",
    "# !wget \"http://dlib.net/files/shape_predictor_5_face_landmarks.dat.bz2\" -O \"models/dlib/facelandmarks.dat.bz2\"\n",
    "\n",
    "# !bzip2 -d \"models/dlib/facerec.dat.bz2\"\n",
    "# !bzip2 -d \"models/dlib/facelandmarks.dat.bz2\""
   ]
  },
  {
   "cell_type": "code",
   "execution_count": 4,
   "metadata": {},
   "outputs": [],
   "source": [
    "import dlib\n",
    "\n",
    "face_detector = dlib.get_frontal_face_detector()\n",
    "landmark_detector = dlib.shape_predictor('models/dlib/facelandmarks.dat')\n",
    "face_embedder = dlib.face_recognition_model_v1('models/dlib/facerec.dat')\n",
    "\n",
    "dlib_models = [face_detector, landmark_detector, face_embedder]"
   ]
  },
  {
   "cell_type": "markdown",
   "metadata": {},
   "source": [
    "We train the model for 150 epochs, performing a validation run every 10 epochs"
   ]
  },
  {
   "cell_type": "code",
   "execution_count": 6,
   "metadata": {},
   "outputs": [
    {
     "name": "stderr",
     "output_type": "stream",
     "text": [
      "\n",
      "  0%|          | 0/150 [00:00<?, ?it/s]\u001b[A\n",
      "  1%|          | 1/150 [00:01<04:40,  1.88s/it]\u001b[A\n",
      "  1%|▏         | 2/150 [00:03<04:38,  1.88s/it]\u001b[A\n",
      "  2%|▏         | 3/150 [00:05<04:38,  1.90s/it]\u001b[A\n",
      "  3%|▎         | 4/150 [00:07<04:36,  1.89s/it]\u001b[A\n",
      "  3%|▎         | 5/150 [00:09<04:35,  1.90s/it]\u001b[A\n",
      "  4%|▍         | 6/150 [00:11<04:32,  1.89s/it]\u001b[A\n",
      "  5%|▍         | 7/150 [00:13<04:29,  1.89s/it]\u001b[A\n",
      "  5%|▌         | 8/150 [00:15<04:27,  1.88s/it]\u001b[A\n",
      "  6%|▌         | 9/150 [00:17<04:25,  1.88s/it]\u001b[A"
     ]
    },
    {
     "name": "stdout",
     "output_type": "stream",
     "text": [
      "saving at epoch 10\n"
     ]
    },
    {
     "name": "stderr",
     "output_type": "stream",
     "text": [
      "\n",
      "  7%|▋         | 10/150 [00:20<05:43,  2.45s/it]\u001b[A"
     ]
    },
    {
     "name": "stdout",
     "output_type": "stream",
     "text": [
      "Epoch:  10 Train Loss: 0.005503633321830253 Val Loss: 0.08476116165386892 Average Distance: 0.6482976042462809\n"
     ]
    },
    {
     "name": "stderr",
     "output_type": "stream",
     "text": [
      "\n",
      "  7%|▋         | 11/150 [00:22<05:17,  2.28s/it]\u001b[A\n",
      "  8%|▊         | 12/150 [00:24<04:58,  2.16s/it]\u001b[A\n",
      "  9%|▊         | 13/150 [00:26<04:44,  2.08s/it]\u001b[A\n",
      "  9%|▉         | 14/150 [00:28<04:34,  2.02s/it]\u001b[A\n",
      " 10%|█         | 15/150 [00:30<04:26,  1.97s/it]\u001b[A\n",
      " 11%|█         | 16/150 [00:32<04:21,  1.95s/it]\u001b[A\n",
      " 11%|█▏        | 17/150 [00:33<04:16,  1.93s/it]\u001b[A\n",
      " 12%|█▏        | 18/150 [00:35<04:12,  1.92s/it]\u001b[A\n",
      " 13%|█▎        | 19/150 [00:37<04:09,  1.90s/it]\u001b[A"
     ]
    },
    {
     "name": "stdout",
     "output_type": "stream",
     "text": [
      "saving at epoch 20\n"
     ]
    },
    {
     "name": "stderr",
     "output_type": "stream",
     "text": [
      "\n",
      " 13%|█▎        | 20/150 [00:41<05:21,  2.47s/it]\u001b[A"
     ]
    },
    {
     "name": "stdout",
     "output_type": "stream",
     "text": [
      "Epoch:  20 Train Loss: 0.0035082149565562435 Val Loss: 0.09036935450492707 Average Distance: 0.5933327321365615\n"
     ]
    },
    {
     "name": "stderr",
     "output_type": "stream",
     "text": [
      "\n",
      " 14%|█▍        | 21/150 [00:43<04:56,  2.30s/it]\u001b[A\n",
      " 15%|█▍        | 22/150 [00:45<04:37,  2.17s/it]\u001b[A\n",
      " 15%|█▌        | 23/150 [00:47<04:24,  2.09s/it]\u001b[A\n",
      " 16%|█▌        | 24/150 [00:49<04:15,  2.02s/it]\u001b[A\n",
      " 17%|█▋        | 25/150 [00:50<04:08,  1.98s/it]\u001b[A\n",
      " 17%|█▋        | 26/150 [00:52<04:02,  1.95s/it]\u001b[A\n",
      " 18%|█▊        | 27/150 [00:54<03:58,  1.94s/it]\u001b[A\n",
      " 19%|█▊        | 28/150 [00:56<03:56,  1.94s/it]\u001b[A\n",
      " 19%|█▉        | 29/150 [00:58<03:53,  1.93s/it]\u001b[A"
     ]
    },
    {
     "name": "stdout",
     "output_type": "stream",
     "text": [
      "saving at epoch 30\n"
     ]
    },
    {
     "name": "stderr",
     "output_type": "stream",
     "text": [
      "\n",
      " 20%|██        | 30/150 [01:02<04:57,  2.48s/it]\u001b[A"
     ]
    },
    {
     "name": "stdout",
     "output_type": "stream",
     "text": [
      "Epoch:  30 Train Loss: 0.002636124529800881 Val Loss: 0.09173838794231415 Average Distance: 0.5608694872554429\n"
     ]
    },
    {
     "name": "stderr",
     "output_type": "stream",
     "text": [
      "\n",
      " 21%|██        | 31/150 [01:04<04:35,  2.32s/it]\u001b[A\n",
      " 21%|██▏       | 32/150 [01:06<04:17,  2.19s/it]\u001b[A\n",
      " 22%|██▏       | 33/150 [01:08<04:05,  2.09s/it]\u001b[A\n",
      " 23%|██▎       | 34/150 [01:09<03:57,  2.05s/it]\u001b[A\n",
      " 23%|██▎       | 35/150 [01:11<03:50,  2.01s/it]\u001b[A\n",
      " 24%|██▍       | 36/150 [01:13<03:46,  1.98s/it]\u001b[A\n",
      " 25%|██▍       | 37/150 [01:15<03:40,  1.95s/it]\u001b[A\n",
      " 25%|██▌       | 38/150 [01:17<03:38,  1.95s/it]\u001b[A\n",
      " 26%|██▌       | 39/150 [01:19<03:33,  1.93s/it]\u001b[A"
     ]
    },
    {
     "name": "stdout",
     "output_type": "stream",
     "text": [
      "saving at epoch 40\n"
     ]
    },
    {
     "name": "stderr",
     "output_type": "stream",
     "text": [
      "\n",
      " 27%|██▋       | 40/150 [01:23<04:31,  2.47s/it]\u001b[A"
     ]
    },
    {
     "name": "stdout",
     "output_type": "stream",
     "text": [
      "Epoch:  40 Train Loss: 0.002208113207364048 Val Loss: 0.0960594054344481 Average Distance: 0.5502513274569063\n"
     ]
    },
    {
     "name": "stderr",
     "output_type": "stream",
     "text": [
      "\n",
      " 27%|██▋       | 41/150 [01:25<04:11,  2.30s/it]\u001b[A\n",
      " 28%|██▊       | 42/150 [01:27<03:55,  2.18s/it]\u001b[A\n",
      " 29%|██▊       | 43/150 [01:28<03:44,  2.09s/it]\u001b[A\n",
      " 29%|██▉       | 44/150 [01:30<03:35,  2.04s/it]\u001b[A\n",
      " 30%|███       | 45/150 [01:32<03:29,  1.99s/it]\u001b[A\n",
      " 31%|███       | 46/150 [01:34<03:23,  1.96s/it]\u001b[A\n",
      " 31%|███▏      | 47/150 [01:36<03:20,  1.94s/it]\u001b[A\n",
      " 32%|███▏      | 48/150 [01:38<03:16,  1.92s/it]\u001b[A\n",
      " 33%|███▎      | 49/150 [01:40<03:13,  1.91s/it]\u001b[A"
     ]
    },
    {
     "name": "stdout",
     "output_type": "stream",
     "text": [
      "saving at epoch 50\n"
     ]
    },
    {
     "name": "stderr",
     "output_type": "stream",
     "text": [
      "\n",
      " 33%|███▎      | 50/150 [01:44<04:07,  2.48s/it]\u001b[A"
     ]
    },
    {
     "name": "stdout",
     "output_type": "stream",
     "text": [
      "Epoch:  50 Train Loss: 0.001915522805554257 Val Loss: 0.09525882472506667 Average Distance: 0.5242195284927453\n"
     ]
    },
    {
     "name": "stderr",
     "output_type": "stream",
     "text": [
      "\n",
      " 34%|███▍      | 51/150 [01:46<03:48,  2.31s/it]\u001b[A\n",
      " 35%|███▍      | 52/150 [01:47<03:35,  2.19s/it]\u001b[A\n",
      " 35%|███▌      | 53/150 [01:49<03:25,  2.12s/it]\u001b[A\n",
      " 36%|███▌      | 54/150 [01:51<03:16,  2.05s/it]\u001b[A\n",
      " 37%|███▋      | 55/150 [01:53<03:11,  2.02s/it]\u001b[A\n",
      " 37%|███▋      | 56/150 [01:55<03:07,  2.00s/it]\u001b[A\n",
      " 38%|███▊      | 57/150 [01:57<03:03,  1.97s/it]\u001b[A\n",
      " 39%|███▊      | 58/150 [01:59<03:00,  1.96s/it]\u001b[A\n",
      " 39%|███▉      | 59/150 [02:01<02:56,  1.94s/it]\u001b[A"
     ]
    },
    {
     "name": "stdout",
     "output_type": "stream",
     "text": [
      "saving at epoch 60\n"
     ]
    },
    {
     "name": "stderr",
     "output_type": "stream",
     "text": [
      "\n",
      " 40%|████      | 60/150 [02:05<03:43,  2.48s/it]\u001b[A"
     ]
    },
    {
     "name": "stdout",
     "output_type": "stream",
     "text": [
      "Epoch:  60 Train Loss: 0.0015679741379986893 Val Loss: 0.09515490237854224 Average Distance: 0.5176397846067173\n"
     ]
    },
    {
     "name": "stderr",
     "output_type": "stream",
     "text": [
      "\n",
      " 41%|████      | 61/150 [02:07<03:25,  2.30s/it]\u001b[A\n",
      " 41%|████▏     | 62/150 [02:08<03:11,  2.18s/it]\u001b[A\n",
      " 42%|████▏     | 63/150 [02:10<03:01,  2.09s/it]\u001b[A\n",
      " 43%|████▎     | 64/150 [02:12<02:54,  2.03s/it]\u001b[A\n",
      " 43%|████▎     | 65/150 [02:14<02:48,  1.98s/it]\u001b[A\n",
      " 44%|████▍     | 66/150 [02:16<02:43,  1.95s/it]\u001b[A\n",
      " 45%|████▍     | 67/150 [02:18<02:39,  1.93s/it]\u001b[A\n",
      " 45%|████▌     | 68/150 [02:20<02:36,  1.91s/it]\u001b[A\n",
      " 46%|████▌     | 69/150 [02:22<02:34,  1.90s/it]\u001b[A"
     ]
    },
    {
     "name": "stdout",
     "output_type": "stream",
     "text": [
      "saving at epoch 70\n"
     ]
    },
    {
     "name": "stderr",
     "output_type": "stream",
     "text": [
      "\n",
      " 47%|████▋     | 70/150 [02:25<03:17,  2.47s/it]\u001b[A"
     ]
    },
    {
     "name": "stdout",
     "output_type": "stream",
     "text": [
      "Epoch:  70 Train Loss: 0.0013491007694760445 Val Loss: 0.09727996970172477 Average Distance: 0.49970528943012227\n"
     ]
    },
    {
     "name": "stderr",
     "output_type": "stream",
     "text": [
      "\n",
      " 47%|████▋     | 71/150 [02:27<03:01,  2.29s/it]\u001b[A\n",
      " 48%|████▊     | 72/150 [02:29<02:49,  2.17s/it]\u001b[A\n",
      " 49%|████▊     | 73/150 [02:31<02:40,  2.09s/it]\u001b[A\n",
      " 49%|████▉     | 74/150 [02:33<02:33,  2.02s/it]\u001b[A\n",
      " 50%|█████     | 75/150 [02:35<02:28,  1.98s/it]\u001b[A\n",
      " 51%|█████     | 76/150 [02:37<02:23,  1.95s/it]\u001b[A\n",
      " 51%|█████▏    | 77/150 [02:39<02:20,  1.93s/it]\u001b[A\n",
      " 52%|█████▏    | 78/150 [02:40<02:19,  1.93s/it]\u001b[A\n",
      " 53%|█████▎    | 79/150 [02:42<02:17,  1.93s/it]\u001b[A"
     ]
    },
    {
     "name": "stdout",
     "output_type": "stream",
     "text": [
      "saving at epoch 80\n"
     ]
    },
    {
     "name": "stderr",
     "output_type": "stream",
     "text": [
      "\n",
      " 53%|█████▎    | 80/150 [02:46<02:54,  2.50s/it]\u001b[A"
     ]
    },
    {
     "name": "stdout",
     "output_type": "stream",
     "text": [
      "Epoch:  80 Train Loss: 0.0012207766151826444 Val Loss: 0.09551315471134354 Average Distance: 0.49420799565166756\n"
     ]
    },
    {
     "name": "stderr",
     "output_type": "stream",
     "text": [
      "\n",
      " 54%|█████▍    | 81/150 [02:48<02:40,  2.33s/it]\u001b[A\n",
      " 55%|█████▍    | 82/150 [02:50<02:29,  2.19s/it]\u001b[A\n",
      " 55%|█████▌    | 83/150 [02:52<02:21,  2.11s/it]\u001b[A\n",
      " 56%|█████▌    | 84/150 [02:54<02:15,  2.05s/it]\u001b[A\n",
      " 57%|█████▋    | 85/150 [02:56<02:10,  2.00s/it]\u001b[A\n",
      " 57%|█████▋    | 86/150 [02:58<02:05,  1.97s/it]\u001b[A\n",
      " 58%|█████▊    | 87/150 [02:59<02:02,  1.94s/it]\u001b[A\n",
      " 59%|█████▊    | 88/150 [03:01<02:00,  1.94s/it]\u001b[A\n",
      " 59%|█████▉    | 89/150 [03:03<01:58,  1.95s/it]\u001b[A"
     ]
    },
    {
     "name": "stdout",
     "output_type": "stream",
     "text": [
      "saving at epoch 90\n"
     ]
    },
    {
     "name": "stderr",
     "output_type": "stream",
     "text": [
      "\n",
      " 60%|██████    | 90/150 [03:07<02:32,  2.55s/it]\u001b[A"
     ]
    },
    {
     "name": "stdout",
     "output_type": "stream",
     "text": [
      "Epoch:  90 Train Loss: 0.0010728969348423269 Val Loss: 0.0965242087841034 Average Distance: 0.4882800274816017\n"
     ]
    },
    {
     "name": "stderr",
     "output_type": "stream",
     "text": [
      "\n",
      " 61%|██████    | 91/150 [03:09<02:19,  2.36s/it]\u001b[A\n",
      " 61%|██████▏   | 92/150 [03:11<02:09,  2.23s/it]\u001b[A\n",
      " 62%|██████▏   | 93/150 [03:13<02:01,  2.14s/it]\u001b[A\n",
      " 63%|██████▎   | 94/150 [03:15<01:55,  2.06s/it]\u001b[A\n",
      " 63%|██████▎   | 95/150 [03:17<01:50,  2.01s/it]\u001b[A\n",
      " 64%|██████▍   | 96/150 [03:19<01:46,  1.97s/it]\u001b[A\n",
      " 65%|██████▍   | 97/150 [03:21<01:42,  1.94s/it]\u001b[A\n",
      " 65%|██████▌   | 98/150 [03:22<01:39,  1.92s/it]\u001b[A\n",
      " 66%|██████▌   | 99/150 [03:24<01:37,  1.91s/it]\u001b[A"
     ]
    },
    {
     "name": "stdout",
     "output_type": "stream",
     "text": [
      "saving at epoch 100\n"
     ]
    },
    {
     "name": "stderr",
     "output_type": "stream",
     "text": [
      "\n",
      " 67%|██████▋   | 100/150 [03:28<02:02,  2.46s/it]\u001b[A"
     ]
    },
    {
     "name": "stdout",
     "output_type": "stream",
     "text": [
      "Epoch:  100 Train Loss: 0.0010020290715512872 Val Loss: 0.09597187212346929 Average Distance: 0.4818144651828177\n"
     ]
    },
    {
     "name": "stderr",
     "output_type": "stream",
     "text": [
      "\n",
      " 67%|██████▋   | 101/150 [03:30<01:51,  2.28s/it]\u001b[A\n",
      " 68%|██████▊   | 102/150 [03:32<01:43,  2.16s/it]\u001b[A\n",
      " 69%|██████▊   | 103/150 [03:34<01:37,  2.07s/it]\u001b[A\n",
      " 69%|██████▉   | 104/150 [03:36<01:32,  2.01s/it]\u001b[A\n",
      " 70%|███████   | 105/150 [03:37<01:28,  1.97s/it]\u001b[A\n",
      " 71%|███████   | 106/150 [03:39<01:25,  1.94s/it]\u001b[A\n",
      " 71%|███████▏  | 107/150 [03:41<01:22,  1.92s/it]\u001b[A\n",
      " 72%|███████▏  | 108/150 [03:43<01:20,  1.91s/it]\u001b[A\n",
      " 73%|███████▎  | 109/150 [03:45<01:18,  1.91s/it]\u001b[A"
     ]
    },
    {
     "name": "stdout",
     "output_type": "stream",
     "text": [
      "saving at epoch 110\n"
     ]
    },
    {
     "name": "stderr",
     "output_type": "stream",
     "text": [
      "\n",
      " 73%|███████▎  | 110/150 [03:49<01:38,  2.46s/it]\u001b[A"
     ]
    },
    {
     "name": "stdout",
     "output_type": "stream",
     "text": [
      "Epoch:  110 Train Loss: 0.0010009919649161313 Val Loss: 0.09440892400731028 Average Distance: 0.48242496616407216\n"
     ]
    },
    {
     "name": "stderr",
     "output_type": "stream",
     "text": [
      "\n",
      " 74%|███████▍  | 111/150 [03:51<01:29,  2.28s/it]\u001b[A\n",
      " 75%|███████▍  | 112/150 [03:53<01:22,  2.16s/it]\u001b[A\n",
      " 75%|███████▌  | 113/150 [03:54<01:16,  2.08s/it]\u001b[A\n",
      " 76%|███████▌  | 114/150 [03:56<01:12,  2.02s/it]\u001b[A\n",
      " 77%|███████▋  | 115/150 [03:58<01:09,  1.98s/it]\u001b[A\n",
      " 77%|███████▋  | 116/150 [04:00<01:06,  1.96s/it]\u001b[A\n",
      " 78%|███████▊  | 117/150 [04:02<01:04,  1.95s/it]\u001b[A\n",
      " 79%|███████▊  | 118/150 [04:04<01:01,  1.93s/it]\u001b[A\n",
      " 79%|███████▉  | 119/150 [04:06<00:59,  1.91s/it]\u001b[A"
     ]
    },
    {
     "name": "stdout",
     "output_type": "stream",
     "text": [
      "saving at epoch 120\n"
     ]
    },
    {
     "name": "stderr",
     "output_type": "stream",
     "text": [
      "\n",
      " 80%|████████  | 120/150 [04:10<01:14,  2.47s/it]\u001b[A"
     ]
    },
    {
     "name": "stdout",
     "output_type": "stream",
     "text": [
      "Epoch:  120 Train Loss: 0.000882807120830677 Val Loss: 0.09757712707582829 Average Distance: 0.48106578996111055\n"
     ]
    },
    {
     "name": "stderr",
     "output_type": "stream",
     "text": [
      "\n",
      " 81%|████████  | 121/150 [04:11<01:07,  2.31s/it]\u001b[A\n",
      " 81%|████████▏ | 122/150 [04:13<01:01,  2.19s/it]\u001b[A\n",
      " 82%|████████▏ | 123/150 [04:15<00:57,  2.11s/it]\u001b[A\n",
      " 83%|████████▎ | 124/150 [04:17<00:53,  2.04s/it]\u001b[A\n",
      " 83%|████████▎ | 125/150 [04:19<00:49,  1.99s/it]\u001b[A\n",
      " 84%|████████▍ | 126/150 [04:21<00:47,  1.97s/it]\u001b[A\n",
      " 85%|████████▍ | 127/150 [04:23<00:45,  1.96s/it]\u001b[A\n",
      " 85%|████████▌ | 128/150 [04:25<00:42,  1.94s/it]\u001b[A\n",
      " 86%|████████▌ | 129/150 [04:27<00:40,  1.92s/it]\u001b[A"
     ]
    },
    {
     "name": "stdout",
     "output_type": "stream",
     "text": [
      "saving at epoch 130\n"
     ]
    },
    {
     "name": "stderr",
     "output_type": "stream",
     "text": [
      "\n",
      " 87%|████████▋ | 130/150 [04:30<00:49,  2.48s/it]\u001b[A"
     ]
    },
    {
     "name": "stdout",
     "output_type": "stream",
     "text": [
      "Epoch:  130 Train Loss: 0.000813393358505149 Val Loss: 0.09751732957310381 Average Distance: 0.4763547510438185\n"
     ]
    },
    {
     "name": "stderr",
     "output_type": "stream",
     "text": [
      "\n",
      " 87%|████████▋ | 131/150 [04:32<00:43,  2.31s/it]\u001b[A\n",
      " 88%|████████▊ | 132/150 [04:34<00:39,  2.18s/it]\u001b[A\n",
      " 89%|████████▊ | 133/150 [04:36<00:35,  2.10s/it]\u001b[A\n",
      " 89%|████████▉ | 134/150 [04:38<00:32,  2.03s/it]\u001b[A\n",
      " 90%|█████████ | 135/150 [04:40<00:29,  1.99s/it]\u001b[A\n",
      " 91%|█████████ | 136/150 [04:42<00:27,  1.96s/it]\u001b[A\n",
      " 91%|█████████▏| 137/150 [04:44<00:25,  1.94s/it]\u001b[A\n",
      " 92%|█████████▏| 138/150 [04:46<00:23,  1.92s/it]\u001b[A\n",
      " 93%|█████████▎| 139/150 [04:47<00:21,  1.91s/it]\u001b[A"
     ]
    },
    {
     "name": "stdout",
     "output_type": "stream",
     "text": [
      "saving at epoch 140\n"
     ]
    },
    {
     "name": "stderr",
     "output_type": "stream",
     "text": [
      "\n",
      " 93%|█████████▎| 140/150 [04:51<00:24,  2.47s/it]\u001b[A"
     ]
    },
    {
     "name": "stdout",
     "output_type": "stream",
     "text": [
      "Epoch:  140 Train Loss: 0.0007548059287331142 Val Loss: 0.09733475217249542 Average Distance: 0.46794333502742785\n"
     ]
    },
    {
     "name": "stderr",
     "output_type": "stream",
     "text": [
      "\n",
      " 94%|█████████▍| 141/150 [04:53<00:20,  2.30s/it]\u001b[A\n",
      " 95%|█████████▍| 142/150 [04:55<00:17,  2.17s/it]\u001b[A\n",
      " 95%|█████████▌| 143/150 [04:57<00:14,  2.10s/it]\u001b[A\n",
      " 96%|█████████▌| 144/150 [04:59<00:12,  2.06s/it]\u001b[A\n",
      " 97%|█████████▋| 145/150 [05:01<00:10,  2.02s/it]\u001b[A\n",
      " 97%|█████████▋| 146/150 [05:03<00:07,  1.99s/it]\u001b[A\n",
      " 98%|█████████▊| 147/150 [05:05<00:05,  1.97s/it]\u001b[A\n",
      " 99%|█████████▊| 148/150 [05:07<00:03,  1.94s/it]\u001b[A\n",
      " 99%|█████████▉| 149/150 [05:09<00:01,  1.94s/it]\u001b[A"
     ]
    },
    {
     "name": "stdout",
     "output_type": "stream",
     "text": [
      "saving at epoch 150\n"
     ]
    },
    {
     "name": "stderr",
     "output_type": "stream",
     "text": [
      "\n",
      "100%|██████████| 150/150 [05:12<00:00,  2.51s/it]\u001b[A\n",
      "\u001b[A"
     ]
    },
    {
     "name": "stdout",
     "output_type": "stream",
     "text": [
      "Epoch:  150 Train Loss: 0.000724061506655838 Val Loss: 0.09523232999892361 Average Distance: 0.46485991395992887\n",
      "saving at epoch 150\n"
     ]
    }
   ],
   "source": [
    "validate_every=10\n",
    "num_epochs=150\n",
    "\n",
    "train(model, dataloader_dict, criterion, optimizer, device, out_name='models/pytorch/128_avg/model', \n",
    "      dlib_models=dlib_models, validate=True, validate_every=validate_every, num_epochs=num_epochs)"
   ]
  },
  {
   "cell_type": "markdown",
   "metadata": {},
   "source": [
    "### Evaluating"
   ]
  },
  {
   "cell_type": "code",
   "execution_count": 7,
   "metadata": {},
   "outputs": [],
   "source": [
    "import numpy as np\n",
    "import matplotlib.pyplot as plt\n",
    "import seaborn as sns\n",
    "from scipy.stats import percentileofscore"
   ]
  },
  {
   "cell_type": "markdown",
   "metadata": {},
   "source": [
    "We load in the training losses, and validation metrics sved during training"
   ]
  },
  {
   "cell_type": "code",
   "execution_count": 8,
   "metadata": {},
   "outputs": [],
   "source": [
    "trn_losses = np.load('models/pytorch/128_avg/modeltrn_losses.npy')\n",
    "avg_dists = np.load('models/pytorch/128_avg/modelavg_dists.npy')"
   ]
  },
  {
   "cell_type": "code",
   "execution_count": 9,
   "metadata": {},
   "outputs": [
    {
     "data": {
      "text/plain": [
       "(Text(0.5, 0, 'epoch'), Text(0, 0.5, 'average distance (validation)'))"
      ]
     },
     "execution_count": 9,
     "metadata": {},
     "output_type": "execute_result"
    },
    {
     "data": {
      "image/png": "[encoded data removed]",
      "text/plain": [
       "<Figure size 864x216 with 2 Axes>"
      ]
     },
     "metadata": {
      "needs_background": "light"
     },
     "output_type": "display_data"
    }
   ],
   "source": [
    "fig, ax = plt.subplots(1,2)\n",
    "fig.set_size_inches(12, 3)\n",
    "\n",
    "sns.lineplot(x=range(1, num_epochs+1), y=trn_losses, ax=ax[0])\n",
    "ax[0].set_xlabel('epoch'), ax[0].set_ylabel('training loss')\n",
    "\n",
    "sns.lineplot(x=range(validate_every, num_epochs+1, validate_every), y=avg_dists, markers=True, ax=ax[1])\n",
    "ax[1].set_xlabel('epoch'), ax[1].set_ylabel('average distance (validation)')"
   ]
  },
  {
   "cell_type": "markdown",
   "metadata": {},
   "source": [
    "Load in the parameters of the model from the epoch with the lowest evaluation metric"
   ]
  },
  {
   "cell_type": "code",
   "execution_count": 10,
   "metadata": {},
   "outputs": [
    {
     "name": "stdout",
     "output_type": "stream",
     "text": [
      "Best Epoch: 150 Best average distance (val): 0.46485991395992887\n"
     ]
    }
   ],
   "source": [
    "best_epoch = (np.argmin(avg_dists) + 1) * 10\n",
    "print(\"Best Epoch:\", best_epoch, \"Best average distance (val):\", np.min(avg_dists))\n",
    "\n",
    "data = torch.load(f\"models/pytorch/128_avg/model_{best_epoch}.pth\")\n",
    "\n",
    "model = Generator(128).to(device)\n",
    "model.eval()\n",
    "\n",
    "model.load_state_dict(data[\"model_state_dict\"])"
   ]
  },
  {
   "cell_type": "markdown",
   "metadata": {},
   "source": [
    "Prepare a dataloader for the test samples, get the true vectors, and the vectors generated from their synthesized photos"
   ]
  },
  {
   "cell_type": "code",
   "execution_count": 11,
   "metadata": {},
   "outputs": [],
   "source": [
    "test_dataloader = DataLoader(EmbedImagePairs('/floyd/input/data/128dim/test', size=64, n_hidden=128, train=False), batch_size=100)"
   ]
  },
  {
   "cell_type": "markdown",
   "metadata": {},
   "source": [
    "We visualize the distribution of distances between the embeddings of the true images of the test set and those of their synthesized counterparts"
   ]
  },
  {
   "cell_type": "code",
   "execution_count": 12,
   "metadata": {},
   "outputs": [],
   "source": [
    "test_dists = test(model, test_dataloader, dlib_models, device)"
   ]
  },
  {
   "cell_type": "code",
   "execution_count": 13,
   "metadata": {},
   "outputs": [
    {
     "data": {
      "image/png": "[encoded data removed]",
      "text/plain": [
       "<Figure size 432x288 with 1 Axes>"
      ]
     },
     "metadata": {
      "needs_background": "light"
     },
     "output_type": "display_data"
    }
   ],
   "source": [
    "sns.distplot(test_dists, kde=False)\n",
    "plt.axvline(x=0.6)\n",
    "plt.show()"
   ]
  },
  {
   "cell_type": "markdown",
   "metadata": {},
   "source": [
    "While the percentage of accepted samples is greater than before, the bad samples are worse than before, some reaching distances close to 0.7"
   ]
  },
  {
   "cell_type": "code",
   "execution_count": 14,
   "metadata": {},
   "outputs": [
    {
     "name": "stdout",
     "output_type": "stream",
     "text": [
      "Percent of synthesized images classified as same person at threshold 0.6: 96.29629629629629 Average distance (test): 0.46704216878022276\n"
     ]
    }
   ],
   "source": [
    "pct = percentileofscore(test_dists, 0.6)\n",
    "mean = np.mean(test_dists)\n",
    "\n",
    "print(\"Percent of synthesized images classified as same person at threshold 0.6:\", pct, \"Average distance (test):\", mean)"
   ]
  },
  {
   "cell_type": "markdown",
   "metadata": {},
   "source": [
    "We prepare a dataloader for the visualization set, synthesize their images and plot them out"
   ]
  },
  {
   "cell_type": "code",
   "execution_count": 15,
   "metadata": {},
   "outputs": [],
   "source": [
    "vis_dataloader = DataLoader(EmbedImagePairs('/floyd/input/data/128dim/vis', size=64, n_hidden=128, train=False), batch_size=8)"
   ]
  },
  {
   "cell_type": "code",
   "execution_count": 16,
   "metadata": {},
   "outputs": [],
   "source": [
    "vis_images, names = synthesize(model, vis_dataloader, device)"
   ]
  },
  {
   "cell_type": "code",
   "execution_count": 17,
   "metadata": {},
   "outputs": [
    {
     "data": {
      "image/png": "[encoded data removed]",
      "text/plain": [
       "<Figure size 1584x216 with 8 Axes>"
      ]
     },
     "metadata": {
      "needs_background": "light"
     },
     "output_type": "display_data"
    }
   ],
   "source": [
    "fig, ax = plt.subplots(1,len(vis_images))\n",
    "fig.set_size_inches(22, 3)\n",
    "\n",
    "for i in range(len(vis_images)):\n",
    "    image, name = vis_images[i], names[i]\n",
    "    ax[i].imshow(image)\n",
    "    ax[i].set_xlabel(name.split(\"/\")[-1])"
   ]
  }
 ],
 "metadata": {
  "kernelspec": {
   "display_name": "Python 3",
   "language": "python",
   "name": "python3"
  },
  "language_info": {
   "codemirror_mode": {
    "name": "ipython",
    "version": 3
   },
   "file_extension": ".py",
   "mimetype": "text/x-python",
   "name": "python",
   "nbconvert_exporter": "python",
   "pygments_lexer": "ipython3",
   "version": "3.6.4"
  }
 },
 "nbformat": 4,
 "nbformat_minor": 2
}
